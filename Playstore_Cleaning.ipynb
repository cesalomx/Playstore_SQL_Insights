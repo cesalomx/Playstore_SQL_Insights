{
 "cells": [
  {
   "cell_type": "code",
   "execution_count": 71,
   "metadata": {},
   "outputs": [],
   "source": [
    "import pandas as pd\n",
    "import uuid \n",
    "# # !pip install pyshorteners\n",
    "# import pyshorteners as ps"
   ]
  },
  {
   "cell_type": "code",
   "execution_count": 72,
   "metadata": {},
   "outputs": [],
   "source": [
    "df=pd.read_csv('D:\\Cesar\\Python\\Datasets\\Playstore Dataset\\Google-Playstore.csv')"
   ]
  },
  {
   "cell_type": "markdown",
   "metadata": {},
   "source": [
    "##### Renaming my columns just to fill out some white spaces"
   ]
  },
  {
   "cell_type": "code",
   "execution_count": 73,
   "metadata": {},
   "outputs": [],
   "source": [
    "df = df.rename(index=str,columns={'App Id':'App_Id','App Name':'App_Name','Rating Count':'Rating_Count','Developer Id':'Developer_Id',\n",
    "                                  'Minimum Installs':'Minimum_Installs','Maximum Installs':'Maximum_Installs','Minimum Android':'Minimum_Android',\n",
    "                                  'Last Updated':'Last_Updated','Content Rating':'Content_Rating','Privacy Policy':'Privacy_Policy',\n",
    "                                  'Ad Supported':'Ad_Supported','In App Purchases':'In_App_Purchases','Editors Choice':'Editors_Choice','Developer Website':'Developer_Website','Developer Email':'Developer_Email','Scraped Time':'Scraped_Time'})"
   ]
  },
  {
   "cell_type": "markdown",
   "metadata": {},
   "source": [
    "##### Finding the links in my \"Privacy_Policy\" column with more than 8000 characters in it and replacing it with a bitty link instead"
   ]
  },
  {
   "cell_type": "code",
   "execution_count": 74,
   "metadata": {},
   "outputs": [],
   "source": [
    "\n",
    "df[(df.Privacy_Policy.str.len() > 8000)]\n",
    "# for rows in df['Privacy_Policy']:\n",
    "#     if (df['Privacy_Policy'].str.len()).any() > 8000:\n",
    "#         print (rows)\n",
    "weird_link = 'https://itty.bitty.site/#Pol%C3%ADtica_de_Privacidade_Sofia/?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'\n",
    "df['Privacy_Policy'] = df['Privacy_Policy'].replace([weird_link],'https://tinyurl.com/y9syngcd')"
   ]
  },
  {
   "cell_type": "markdown",
   "metadata": {},
   "source": [
    "##### Droping duplicates and lowering case my 'App_Id' Column"
   ]
  },
  {
   "cell_type": "code",
   "execution_count": 75,
   "metadata": {},
   "outputs": [],
   "source": [
    "#lowering case my App_Id as there are duplicates in it\n",
    "df['App_Id'] = df['App_Id'].str.lower()\n",
    "#droping all duplicates (around 390)\n",
    "df_1 = df.drop_duplicates(subset=[\"App_Id\"],keep='first')"
   ]
  },
  {
   "cell_type": "markdown",
   "metadata": {},
   "source": [
    "##### Adding empty columns to insert unique identifiers to my tables later on."
   ]
  },
  {
   "cell_type": "code",
   "execution_count": null,
   "metadata": {},
   "outputs": [],
   "source": [
    "#Adding the following 3 columns to create our star model\n",
    "df_1['Info_Id'] = ''\n",
    "df_1['Devs_Id'] = ''\n",
    "df_1['Install_Id'] = ''\n",
    "#creating unique identifiers for each of my dim tables\n",
    "df_1['Devs_Id'] = [uuid.uuid4() for row in range(len(df_1))]\n",
    "df_1['Install_Id'] = [uuid.uuid4() for row in range(len(df_1))]\n",
    "df_1['Info_Id'] = [uuid.uuid4() for row in range(len(df_1))]"
   ]
  },
  {
   "cell_type": "markdown",
   "metadata": {},
   "source": [
    "##### Assigning my different tables"
   ]
  },
  {
   "cell_type": "code",
   "execution_count": 77,
   "metadata": {},
   "outputs": [],
   "source": [
    "df_fact = df_1[['App_Id','App_Name','Category','Rating','Rating_Count','Free','Price','Currency','Size','Released','Info_Id','Devs_Id','Install_Id','Scraped_Time']]\n",
    "df_dim1 = df_1[['Devs_Id','Developer_Id','Developer_Website','Developer_Email','Editors_Choice']]\n",
    "df_dim2 = df_1[['Install_Id','Installs','Minimum_Installs','Maximum_Installs','Minimum_Android']]\n",
    "df_dim3 = df_1[['Info_Id','Last_Updated','Content_Rating','Privacy_Policy','Ad_Supported','In_App_Purchases']]"
   ]
  },
  {
   "cell_type": "markdown",
   "metadata": {},
   "source": [
    "##### Exporting my tables"
   ]
  },
  {
   "cell_type": "code",
   "execution_count": 79,
   "metadata": {},
   "outputs": [],
   "source": [
    "df_fact.to_csv(r'C:\\\\Users\\\\Cesal\\\\projects\\\\Playstore_SQL_Project\\\\df_fact.csv',sep = '|', index = False)\n",
    "df_dim1.to_csv(r'C:\\\\Users\\\\Cesal\\\\projects\\\\Playstore_SQL_Project\\\\df_dim1.csv',sep = '|', index = False)\n",
    "df_dim2.to_csv(r'C:\\\\Users\\\\Cesal\\\\projects\\\\Playstore_SQL_Project\\\\df_dim2.csv',sep = '|', index = False)\n",
    "df_dim3.to_csv(r'C:\\\\Users\\\\Cesal\\\\projects\\\\Playstore_SQL_Project\\\\df_dim3.csv',sep = '|', index = False)"
   ]
  }
 ],
 "metadata": {
  "interpreter": {
   "hash": "7dbb69f2fe16ee411a1d001fc5a919d66021ed1f9a71b5ac22cd67380668a935"
  },
  "kernelspec": {
   "display_name": "Python 3.7.1 64-bit",
   "language": "python",
   "name": "python3"
  },
  "language_info": {
   "codemirror_mode": {
    "name": "ipython",
    "version": 3
   },
   "file_extension": ".py",
   "mimetype": "text/x-python",
   "name": "python",
   "nbconvert_exporter": "python",
   "pygments_lexer": "ipython3",
   "version": "3.7.1"
  },
  "orig_nbformat": 4
 },
 "nbformat": 4,
 "nbformat_minor": 2
}
