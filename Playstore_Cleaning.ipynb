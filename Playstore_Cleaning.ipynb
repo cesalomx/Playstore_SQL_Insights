{
 "cells": [
  {
   "cell_type": "code",
   "execution_count": 7,
   "metadata": {},
   "outputs": [],
   "source": [
    "import pandas as pd\n",
    "import uuid "
   ]
  },
  {
   "cell_type": "code",
   "execution_count": 8,
   "metadata": {},
   "outputs": [],
   "source": [
    "df=pd.read_csv('D:\\Cesar\\Python\\Datasets\\Playstore Dataset\\Google-Playstore.csv')"
   ]
  },
  {
   "cell_type": "code",
   "execution_count": 9,
   "metadata": {},
   "outputs": [],
   "source": [
    "df = df.rename(index=str,columns={'App Id':'App_Id','App Name':'App_Name','Rating Count':'Rating_Count','Developer Id':'Developer_Id',\n",
    "                                  'Minimum Installs':'Minimum_Installs','Maximum Installs':'Maximum_Installs','Minimum Android':'Minimum_Android',\n",
    "                                  'Last Updated':'Last_Updated','Content Rating':'Content_Rating','Privacy Policy':'Privacy_Policy',\n",
    "                                  'Ad Supported':'Ad_Supported','In App Purchases':'In_App_Purchases','Editors Choice':'Editors_Choice','Developer Website':'Developer_Website','Developer Email':'Developer_Email','Scraped Time':'Scraped_Time'})"
   ]
  },
  {
   "cell_type": "code",
   "execution_count": 4,
   "metadata": {},
   "outputs": [],
   "source": [
    "#lowering case my App_Id as there are duplicates in it\n",
    "df['App_Id'] = df['App_Id'].str.lower()\n",
    "#droping all duplicates (around 390)\n",
    "df_1 = df.drop_duplicates(subset=[\"App_Id\"],keep='first')"
   ]
  },
  {
   "cell_type": "code",
   "execution_count": null,
   "metadata": {},
   "outputs": [],
   "source": [
    "#Adding the following 3 columns to create our star model\n",
    "df_1['Info_Id'] = ''\n",
    "df_1['Devs_Id'] = ''\n",
    "df_1['Install_Id'] = ''\n",
    "#creating unique identifiers for each of my dim tables\n",
    "df_1['Devs_Id'] = [uuid.uuid4() for row in range(len(df_1))]\n",
    "df_1['Install_Id'] = [uuid.uuid4() for row in range(len(df_1))]\n",
    "df_1['Info_Id'] = [uuid.uuid4() for row in range(len(df_1))]"
   ]
  },
  {
   "cell_type": "code",
   "execution_count": 6,
   "metadata": {},
   "outputs": [],
   "source": [
    "#assigning columns to our different tables\n",
    "df_fact = df_1[['App_Id','App_Name','Category','Rating','Rating_Count','Free','Price','Currency','Size','Released','Info_Id','Devs_Id','Install_Id','Scraped_Time']]\n",
    "df_dim1 = df_1[['Devs_Id','Developer_Id','Developer_Website','Developer_Email','Editors_Choice']]\n",
    "df_dim2 = df_1[['Install_Id','Installs','Minimum_Installs','Maximum_Installs','Minimum_Android']]\n",
    "df_dim3 = df_1[['Info_Id','Last_Updated','Content_Rating','Privacy_Policy','Ad_Supported','In_App_Purchases']]"
   ]
  },
  {
   "cell_type": "code",
   "execution_count": 7,
   "metadata": {},
   "outputs": [],
   "source": [
    "# Exporting my tables to be later on imported in a SQL Database\n",
    "df_fact.to_csv(r'C:\\\\Users\\\\Cesal\\\\projects\\\\Pokemon_SQL_Project\\\\df_fact.csv',sep = '|', index = False)\n",
    "df_dim1.to_csv(r'C:\\\\Users\\\\Cesal\\\\projects\\\\Pokemon_SQL_Project\\\\df_dim1.csv',sep = '|', index = False)\n",
    "df_dim2.to_csv(r'C:\\\\Users\\\\Cesal\\\\projects\\\\Pokemon_SQL_Project\\\\df_dim2.csv',sep = '|', index = False)\n",
    "df_dim3.to_csv(r'C:\\\\Users\\\\Cesal\\\\projects\\\\Pokemon_SQL_Project\\\\df_dim3.csv',sep = '|', index = False)"
   ]
  }
 ],
 "metadata": {
  "interpreter": {
   "hash": "7dbb69f2fe16ee411a1d001fc5a919d66021ed1f9a71b5ac22cd67380668a935"
  },
  "kernelspec": {
   "display_name": "Python 3.7.1 64-bit",
   "language": "python",
   "name": "python3"
  },
  "language_info": {
   "codemirror_mode": {
    "name": "ipython",
    "version": 3
   },
   "file_extension": ".py",
   "mimetype": "text/x-python",
   "name": "python",
   "nbconvert_exporter": "python",
   "pygments_lexer": "ipython3",
   "version": "3.7.1"
  },
  "orig_nbformat": 4
 },
 "nbformat": 4,
 "nbformat_minor": 2
}
