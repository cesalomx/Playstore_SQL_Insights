{
 "cells": [
  {
   "cell_type": "code",
   "execution_count": 3,
   "metadata": {},
   "outputs": [],
   "source": [
    "import pandas as pd"
   ]
  },
  {
   "cell_type": "code",
   "execution_count": 29,
   "metadata": {},
   "outputs": [],
   "source": [
    "df=pd.read_csv('D:\\Cesar\\Python\\Datasets\\Playstore Dataset\\Google_Playstore.csv')"
   ]
  },
  {
   "cell_type": "code",
   "execution_count": 22,
   "metadata": {},
   "outputs": [
    {
     "data": {
      "text/plain": [
       "Index(['App Name', 'App Id', 'Category', 'Rating', 'Rating Count', 'Installs',\n",
       "       'Minimum Installs', 'Maximum Installs', 'Free', 'Price', 'Currency',\n",
       "       'Size', 'Minimum Android', 'Developer Id', 'Developer Website',\n",
       "       'Developer Email', 'Released', 'Last Updated', 'Content Rating',\n",
       "       'Privacy Policy', 'Ad Supported', 'In App Purchases', 'Editors Choice'],\n",
       "      dtype='object')"
      ]
     },
     "execution_count": 22,
     "metadata": {},
     "output_type": "execute_result"
    }
   ],
   "source": [
    "df = df.rename(index=str,columns={'App Id':'App_Id','App Name':'App_Name','Rating Count':'Rating_Count','Developer Id':'Developer_Id',\n",
    "                                  'Minimum Installs':'Minimum_Installs','Maximum Installs':'Maximum_Installs','Minimum Android':'Minimum_Android',\n",
    "                                  'Last Updated':'Last_Updated','Content Rating':'Content_Rating','Privacy Policy':'Privacy_Policy',\n",
    "                                  'Ad Supported':'Ad_Supported','In App Purchases':'In_App_Purchases'})"
   ]
  },
  {
   "cell_type": "code",
   "execution_count": 30,
   "metadata": {},
   "outputs": [],
   "source": [
    "df_fact = df[['App Id','App Name','Category','Rating','Rating Count','Free','Price','Currency','Developer Id','Size','Released']]\n",
    "df_dim1 = df[['Developer Id','Developer Website','Developer Email','Editors Choice','App Id']]\n",
    "df_dim2 = df[['Installs','Minimum Installs','Maximum Installs','Minimum Android','Developer Id','App Id']]\n",
    "df_dim3 = df[['Last Updated','Content Rating','Privacy Policy','App Id','Ad Supported','In App Purchases','Developer Id']]"
   ]
  },
  {
   "cell_type": "code",
   "execution_count": null,
   "metadata": {},
   "outputs": [],
   "source": [
    "#Leaving nAn values out of DataFrame\n",
    "df_dim1 = df_dim1[df['Developer Id'].notna()]\n",
    "#Adding the Info_Id to all tables\n",
    "df_fact['Info_Id'] = ''\n",
    "df_dim1['Info_Id'] = ''\n",
    "df_dim2['Info_Id'] = ''\n",
    "df_dim3.insert(0,'info_id','') #Here I am using Insert to place the new columns at the beggining of my df\n",
    "#Adding the Developer Id Column to all tables\n",
    "df_fact['id'] = ''\n",
    "df_dim1.insert(0,'Id','') #Here I am using Insert to place the new columns at the beggining of my df\n",
    "df_dim2['Id'] = ''\n",
    "df_dim3['Id'] = ''\n",
    "#"
   ]
  },
  {
   "cell_type": "code",
   "execution_count": 33,
   "metadata": {},
   "outputs": [],
   "source": [
    "df_fact.to_csv(r'C:\\\\Users\\\\Cesal\\\\projects\\\\Pokemon_SQL_Project\\\\df_fact.csv', index = False)\n",
    "df_dim1.to_csv(r'C:\\\\Users\\\\Cesal\\\\projects\\\\Pokemon_SQL_Project\\\\df_dim1.csv', index = False)\n",
    "df_dim2.to_csv(r'C:\\\\Users\\\\Cesal\\\\projects\\\\Pokemon_SQL_Project\\\\df_dim2.csv', index = False)\n",
    "df_dim3.to_csv(r'C:\\\\Users\\\\Cesal\\\\projects\\\\Pokemon_SQL_Project\\\\df_dim3.csv', index = False)"
   ]
  },
  {
   "cell_type": "code",
   "execution_count": null,
   "metadata": {},
   "outputs": [],
   "source": [
    "#Renaming Columns\n",
    "df_fact.columns\n",
    "df_fact = df_fact.rename(index=str,columns={'App Id':'App_Id','App Name':'App_Name','Rating Count':'Rating_Count','Developer Id':'Developer_Id'})\n",
    "df_dim1 = df_dim1.rename(index=str,columns={'Minimum Installs':'Minimum_Installs','Maximum Installs':'Maximum_Installs','Minimum Android':'Minimum_Android','Developer Id':'Developer_Id','App Id':'App_Id'})\n",
    "df_dim2 = df_dim2.rename(index=str,columns={'Last Updated':'Last_Updated','Content Rating':'Content_Rating','Privacy Policy':'Privacy_Policy','App Id':'App_Id','Ad Supported':'Ad_Supported','In App Purchases':'In_App_Purchases','Developer Id':'Developer_Id'})\n",
    "df_dim3 = df_dim3.rename(index=str,columns={'Last Updated':'Last_Updated',})"
   ]
  },
  {
   "cell_type": "code",
   "execution_count": 35,
   "metadata": {},
   "outputs": [
    {
     "data": {
      "text/plain": [
       "Index(['Id', 'Developer Id', 'Developer Website', 'Developer Email',\n",
       "       'Editors Choice', 'App Id', 'Info_Id'],\n",
       "      dtype='object')"
      ]
     },
     "execution_count": 35,
     "metadata": {},
     "output_type": "execute_result"
    }
   ],
   "source": [
    "df_dim1.columns"
   ]
  },
  {
   "cell_type": "code",
   "execution_count": 36,
   "metadata": {},
   "outputs": [
    {
     "data": {
      "text/plain": [
       "Index(['Installs', 'Minimum Installs', 'Maximum Installs', 'Minimum Android',\n",
       "       'Developer Id', 'App Id', 'Info_Id', 'Id'],\n",
       "      dtype='object')"
      ]
     },
     "execution_count": 36,
     "metadata": {},
     "output_type": "execute_result"
    }
   ],
   "source": [
    "df_dim2.columns"
   ]
  },
  {
   "cell_type": "code",
   "execution_count": 37,
   "metadata": {},
   "outputs": [
    {
     "data": {
      "text/plain": [
       "Index(['info_id', 'Last Updated', 'Content Rating', 'Privacy Policy', 'App Id',\n",
       "       'Ad Supported', 'In App Purchases', 'Developer Id', 'Id'],\n",
       "      dtype='object')"
      ]
     },
     "execution_count": 37,
     "metadata": {},
     "output_type": "execute_result"
    }
   ],
   "source": [
    "df_dim3.columns"
   ]
  }
 ],
 "metadata": {
  "interpreter": {
   "hash": "7dbb69f2fe16ee411a1d001fc5a919d66021ed1f9a71b5ac22cd67380668a935"
  },
  "kernelspec": {
   "display_name": "Python 3.7.1 64-bit",
   "language": "python",
   "name": "python3"
  },
  "language_info": {
   "codemirror_mode": {
    "name": "ipython",
    "version": 3
   },
   "file_extension": ".py",
   "mimetype": "text/x-python",
   "name": "python",
   "nbconvert_exporter": "python",
   "pygments_lexer": "ipython3",
   "version": "3.7.1"
  },
  "orig_nbformat": 4
 },
 "nbformat": 4,
 "nbformat_minor": 2
}
