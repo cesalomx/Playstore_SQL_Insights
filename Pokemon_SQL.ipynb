{
 "cells": [
  {
   "cell_type": "code",
   "execution_count": 91,
   "metadata": {},
   "outputs": [],
   "source": [
    "import pandas as pd"
   ]
  },
  {
   "cell_type": "code",
   "execution_count": 115,
   "metadata": {},
   "outputs": [],
   "source": [
    "df=pd.read_csv('D:\\Cesar\\Python\\Datasets\\Playstore Dataset\\Google_Playstore.csv')"
   ]
  },
  {
   "cell_type": "code",
   "execution_count": 116,
   "metadata": {},
   "outputs": [
    {
     "data": {
      "text/plain": [
       "Index(['App_Name', 'App_Id', 'Category', 'Rating', 'Rating_Count', 'Installs',\n",
       "       'Minimum_Installs', 'Maximum_Installs', 'Free', 'Price', 'Currency',\n",
       "       'Size', 'Minimum_Android', 'Developer_Id', 'Developer_Website',\n",
       "       'Developer_Email', 'Released', 'Last_Updated', 'Content_Rating',\n",
       "       'Privacy_Policy', 'Ad_Supported', 'In_App_Purchases', 'Editors_Choice'],\n",
       "      dtype='object')"
      ]
     },
     "execution_count": 116,
     "metadata": {},
     "output_type": "execute_result"
    }
   ],
   "source": [
    "df = df.rename(index=str,columns={'App Id':'App_Id','App Name':'App_Name','Rating Count':'Rating_Count','Developer Id':'Developer_Id',\n",
    "                                  'Minimum Installs':'Minimum_Installs','Maximum Installs':'Maximum_Installs','Minimum Android':'Minimum_Android',\n",
    "                                  'Last Updated':'Last_Updated','Content Rating':'Content_Rating','Privacy Policy':'Privacy_Policy',\n",
    "                                  'Ad Supported':'Ad_Supported','In App Purchases':'In_App_Purchases','Editors Choice':'Editors_Choice','Developer Website':'Developer_Website','Developer Email':'Developer_Email'})\n",
    "df.columns"
   ]
  },
  {
   "cell_type": "code",
   "execution_count": 117,
   "metadata": {},
   "outputs": [],
   "source": [
    "df_fact = df[['App_Id','App_Name','Category','Rating','Rating_Count','Free','Price','Currency','Developer_Id','Size','Released']]\n",
    "df_dim1 = df[['Developer_Id','Developer_Website','Developer_Email','Editors_Choice','App_Id']]\n",
    "df_dim2 = df[['Installs','Minimum_Installs','Maximum_Installs','Minimum_Android','Developer_Id','App_Id']]\n",
    "df_dim3 = df[['Last_Updated','Content_Rating','Privacy_Policy','App_Id','Ad_Supported','In_App_Purchases','Developer_Id']]"
   ]
  },
  {
   "cell_type": "code",
   "execution_count": 118,
   "metadata": {},
   "outputs": [
    {
     "data": {
      "text/plain": [
       "Index(['App_Name', 'App_Id', 'Category', 'Rating', 'Rating_Count', 'Installs',\n",
       "       'Minimum_Installs', 'Maximum_Installs', 'Free', 'Price', 'Currency',\n",
       "       'Size', 'Minimum_Android', 'Developer_Id', 'Developer_Website',\n",
       "       'Developer_Email', 'Released', 'Last_Updated', 'Content_Rating',\n",
       "       'Privacy_Policy', 'Ad_Supported', 'In_App_Purchases', 'Editors_Choice'],\n",
       "      dtype='object')"
      ]
     },
     "execution_count": 118,
     "metadata": {},
     "output_type": "execute_result"
    }
   ],
   "source": [
    "df = df.rename(index=str,columns={'App Id':'App_Id','App Name':'App_Name','Rating Count':'Rating_Count','Developer Id':'Developer_Id',\n",
    "                                  'Minimum Installs':'Minimum_Installs','Maximum Installs':'Maximum_Installs','Minimum Android':'Minimum_Android',\n",
    "                                  'Last Updated':'Last_Updated','Content Rating':'Content_Rating','Privacy Policy':'Privacy_Policy',\n",
    "                                  'Ad Supported':'Ad_Supported','In App Purchases':'In_App_Purchases','Editors Choice':'Editors_Choice','Developer Website':'Developer_Website','Developer Email':'Developer_Email'})\n",
    "df.columns"
   ]
  },
  {
   "cell_type": "code",
   "execution_count": 119,
   "metadata": {},
   "outputs": [],
   "source": [
    "#Leaving nAn values out of DataFrame\n",
    "df_dim1 = df_dim1[df['Developer_Id'].notna()]\n",
    "#Adding the Info_Id to all tables\n",
    "df_fact['Info_Id'] = ''\n",
    "df_dim1['Info_Id'] = ''\n",
    "df_dim2['Info_Id'] = ''\n",
    "df_dim3.insert(0,'info_id','') #Here I am using Insert to place the new columns at the beggining of my df\n",
    "#Adding the Developer Id Column to all tables\n",
    "df_fact['id'] = ''\n",
    "df_dim1.insert(0,'Id','') #Here I am using Insert to place the new columns at the beggining of my df. The Developer_Id Column is not unique, which is why a new column is being added to this dataframe\n",
    "df_dim2['Id'] = ''\n",
    "df_dim3['Id'] = ''\n",
    "#removing the ',' in my Installs columns for df_dim2\n",
    "# df_dim2['Installs'] = df_dim2['Installs'].str.replace(',','')\n",
    "# df_dim2.head(10)"
   ]
  },
  {
   "cell_type": "code",
   "execution_count": 124,
   "metadata": {},
   "outputs": [],
   "source": [
    "# Exporting my tables to be later on imported in a SQL Database\n",
    "df_fact.to_csv(r'C:\\\\Users\\\\Cesal\\\\projects\\\\Pokemon_SQL_Project\\\\df_fact.csv', index = False)\n",
    "df_dim1.to_csv(r'C:\\\\Users\\\\Cesal\\\\projects\\\\Pokemon_SQL_Project\\\\df_dim1.csv', index = False)\n",
    "df_dim2.to_csv(r'C:\\\\Users\\\\Cesal\\\\projects\\\\Pokemon_SQL_Project\\\\df_dim2.csv', sep = '|', index=False)\n",
    "df_dim3.to_csv(r'C:\\\\Users\\\\Cesal\\\\projects\\\\Pokemon_SQL_Project\\\\df_dim3.csv', index = False)"
   ]
  }
 ],
 "metadata": {
  "interpreter": {
   "hash": "7dbb69f2fe16ee411a1d001fc5a919d66021ed1f9a71b5ac22cd67380668a935"
  },
  "kernelspec": {
   "display_name": "Python 3.7.1 64-bit",
   "language": "python",
   "name": "python3"
  },
  "language_info": {
   "codemirror_mode": {
    "name": "ipython",
    "version": 3
   },
   "file_extension": ".py",
   "mimetype": "text/x-python",
   "name": "python",
   "nbconvert_exporter": "python",
   "pygments_lexer": "ipython3",
   "version": "3.7.1"
  },
  "orig_nbformat": 4
 },
 "nbformat": 4,
 "nbformat_minor": 2
}
